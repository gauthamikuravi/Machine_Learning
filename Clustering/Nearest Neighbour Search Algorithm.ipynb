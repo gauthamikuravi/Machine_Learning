{
 "cells": [
  {
   "cell_type": "markdown",
   "metadata": {},
   "source": [
    "#  <center>Clustering</center>"
   ]
  },
  {
   "cell_type": "code",
   "execution_count": 2,
   "metadata": {},
   "outputs": [],
   "source": [
    "import numpy as np\n",
    "\n",
    "s1 = np.array([2, 1, 1, 1, 1, 1, 1, 1, 0, 0], dtype=float)\n",
    "s2 = np.array([0, 2, 1, 1, 0, 0, 0, 1, 2, 1], dtype=float)\n"
   ]
  },
  {
   "cell_type": "code",
   "execution_count": 4,
   "metadata": {},
   "outputs": [
    {
     "name": "stdout",
     "output_type": "stream",
     "text": [
      "[2. 1. 1. 1. 1. 1. 1. 1. 0. 0.]\n",
      "[0. 2. 1. 1. 0. 0. 0. 1. 2. 1.]\n"
     ]
    }
   ],
   "source": [
    "print(s1)\n",
    "print(s2)\n"
   ]
  },
  {
   "cell_type": "markdown",
   "metadata": {},
   "source": [
    "### 1. Calculate using Cosine Function"
   ]
  },
  {
   "cell_type": "code",
   "execution_count": 5,
   "metadata": {},
   "outputs": [
    {
     "data": {
      "text/plain": [
       "0.5648058601107554"
      ]
     },
     "execution_count": 5,
     "metadata": {},
     "output_type": "execute_result"
    }
   ],
   "source": [
    "cosine_similarity = np.dot(s1, s2)/(np.sqrt(np.sum(s1**2)) * np.sqrt(np.sum(s2**2)))\n",
    "cosine_distance = 1 - cosine_similarity\n",
    "cosine_distance"
   ]
  },
  {
   "cell_type": "markdown",
   "metadata": {},
   "source": [
    "### 2.Calculate using Euclidean Distance"
   ]
  },
  {
   "cell_type": "code",
   "execution_count": 6,
   "metadata": {},
   "outputs": [
    {
     "data": {
      "text/plain": [
       "3.605551275463989"
      ]
     },
     "execution_count": 6,
     "metadata": {},
     "output_type": "execute_result"
    }
   ],
   "source": [
    "euclidean_distance = np.sqrt(np.sum((s1 - s2)**2))\n",
    "euclidean_distance"
   ]
  },
  {
   "cell_type": "markdown",
   "metadata": {},
   "source": [
    "## Choosing features and metrics for nearest neighbor search"
   ]
  },
  {
   "cell_type": "code",
   "execution_count": 11,
   "metadata": {},
   "outputs": [],
   "source": [
    "import pandas as pd                      # see below for install instruction\n",
    "import matplotlib.pyplot as plt          # plotting\n",
    "import numpy as np                       # dense matrices\n",
    "from scipy.sparse import csr_matrix      # sparse matrices\n",
    "%matplotlib inline"
   ]
  },
  {
   "cell_type": "code",
   "execution_count": 12,
   "metadata": {},
   "outputs": [],
   "source": [
    "wiki = pd.read_csv('people_wiki.csv')"
   ]
  },
  {
   "cell_type": "code",
   "execution_count": 13,
   "metadata": {},
   "outputs": [
    {
     "data": {
      "text/html": [
       "<div>\n",
       "<style scoped>\n",
       "    .dataframe tbody tr th:only-of-type {\n",
       "        vertical-align: middle;\n",
       "    }\n",
       "\n",
       "    .dataframe tbody tr th {\n",
       "        vertical-align: top;\n",
       "    }\n",
       "\n",
       "    .dataframe thead th {\n",
       "        text-align: right;\n",
       "    }\n",
       "</style>\n",
       "<table border=\"1\" class=\"dataframe\">\n",
       "  <thead>\n",
       "    <tr style=\"text-align: right;\">\n",
       "      <th></th>\n",
       "      <th>URI</th>\n",
       "      <th>name</th>\n",
       "      <th>text</th>\n",
       "    </tr>\n",
       "  </thead>\n",
       "  <tbody>\n",
       "    <tr>\n",
       "      <th>0</th>\n",
       "      <td>&lt;http://dbpedia.org/resource/Digby_Morrell&gt;</td>\n",
       "      <td>Digby Morrell</td>\n",
       "      <td>digby morrell born 10 october 1979 is a former...</td>\n",
       "    </tr>\n",
       "    <tr>\n",
       "      <th>1</th>\n",
       "      <td>&lt;http://dbpedia.org/resource/Alfred_J._Lewy&gt;</td>\n",
       "      <td>Alfred J. Lewy</td>\n",
       "      <td>alfred j lewy aka sandy lewy graduated from un...</td>\n",
       "    </tr>\n",
       "    <tr>\n",
       "      <th>2</th>\n",
       "      <td>&lt;http://dbpedia.org/resource/Harpdog_Brown&gt;</td>\n",
       "      <td>Harpdog Brown</td>\n",
       "      <td>harpdog brown is a singer and harmonica player...</td>\n",
       "    </tr>\n",
       "    <tr>\n",
       "      <th>3</th>\n",
       "      <td>&lt;http://dbpedia.org/resource/Franz_Rottensteiner&gt;</td>\n",
       "      <td>Franz Rottensteiner</td>\n",
       "      <td>franz rottensteiner born in waidmannsfeld lowe...</td>\n",
       "    </tr>\n",
       "    <tr>\n",
       "      <th>4</th>\n",
       "      <td>&lt;http://dbpedia.org/resource/G-Enka&gt;</td>\n",
       "      <td>G-Enka</td>\n",
       "      <td>henry krvits born 30 december 1974 in tallinn ...</td>\n",
       "    </tr>\n",
       "  </tbody>\n",
       "</table>\n",
       "</div>"
      ],
      "text/plain": [
       "                                                 URI                 name  \\\n",
       "0        <http://dbpedia.org/resource/Digby_Morrell>        Digby Morrell   \n",
       "1       <http://dbpedia.org/resource/Alfred_J._Lewy>       Alfred J. Lewy   \n",
       "2        <http://dbpedia.org/resource/Harpdog_Brown>        Harpdog Brown   \n",
       "3  <http://dbpedia.org/resource/Franz_Rottensteiner>  Franz Rottensteiner   \n",
       "4               <http://dbpedia.org/resource/G-Enka>               G-Enka   \n",
       "\n",
       "                                                text  \n",
       "0  digby morrell born 10 october 1979 is a former...  \n",
       "1  alfred j lewy aka sandy lewy graduated from un...  \n",
       "2  harpdog brown is a singer and harmonica player...  \n",
       "3  franz rottensteiner born in waidmannsfeld lowe...  \n",
       "4  henry krvits born 30 december 1974 in tallinn ...  "
      ]
     },
     "execution_count": 13,
     "metadata": {},
     "output_type": "execute_result"
    }
   ],
   "source": [
    "wiki.head()"
   ]
  },
  {
   "cell_type": "markdown",
   "metadata": {},
   "source": [
    "## Extract word count vectors"
   ]
  },
  {
   "cell_type": "code",
   "execution_count": 14,
   "metadata": {},
   "outputs": [],
   "source": [
    "def load_sparse_csr(filename):\n",
    "    loader = np.load(filename)\n",
    "    data = loader['data']\n",
    "    indices = loader['indices']\n",
    "    indptr = loader['indptr']\n",
    "    shape = loader['shape']\n",
    "    \n",
    "    return csr_matrix( (data, indices, indptr), shape)"
   ]
  },
  {
   "cell_type": "code",
   "execution_count": 15,
   "metadata": {},
   "outputs": [],
   "source": [
    "word_count = load_sparse_csr('people_wiki_word_count.npz')"
   ]
  },
  {
   "cell_type": "code",
   "execution_count": 16,
   "metadata": {},
   "outputs": [
    {
     "data": {
      "text/plain": [
       "<59071x547979 sparse matrix of type '<class 'numpy.int64'>'\n",
       "\twith 10379283 stored elements in Compressed Sparse Row format>"
      ]
     },
     "execution_count": 16,
     "metadata": {},
     "output_type": "execute_result"
    }
   ],
   "source": [
    "word_count"
   ]
  },
  {
   "cell_type": "code",
   "execution_count": 18,
   "metadata": {},
   "outputs": [],
   "source": [
    "def remove_punctuation(text):\n",
    "    import string\n",
    "    return text.translate(string.punctuation) \n",
    "wiki['text_clean'] = wiki['text'].apply(remove_punctuation)"
   ]
  },
  {
   "cell_type": "code",
   "execution_count": 19,
   "metadata": {},
   "outputs": [],
   "source": [
    "from sklearn.feature_extraction.text import CountVectorizer\n",
    "\n",
    "vectorizer = CountVectorizer(token_pattern=r'\\b\\w+\\b')\n",
    "word_count_matrix = vectorizer.fit_transform(wiki['text_clean'])"
   ]
  },
  {
   "cell_type": "code",
   "execution_count": 20,
   "metadata": {},
   "outputs": [
    {
     "data": {
      "text/plain": [
       "<59071x548465 sparse matrix of type '<class 'numpy.int64'>'\n",
       "\twith 10379588 stored elements in Compressed Sparse Row format>"
      ]
     },
     "execution_count": 20,
     "metadata": {},
     "output_type": "execute_result"
    }
   ],
   "source": [
    "word_count_matrix"
   ]
  },
  {
   "cell_type": "markdown",
   "metadata": {},
   "source": [
    "## Find nearest neighbors using word count vectors"
   ]
  },
  {
   "cell_type": "code",
   "execution_count": 22,
   "metadata": {},
   "outputs": [
    {
     "data": {
      "text/plain": [
       "NearestNeighbors(algorithm='brute', metric='euclidean')"
      ]
     },
     "execution_count": 22,
     "metadata": {},
     "output_type": "execute_result"
    }
   ],
   "source": [
    "from sklearn.neighbors import NearestNeighbors\n",
    "model = NearestNeighbors(metric='euclidean', algorithm='brute')\n",
    "model.fit(word_count)"
   ]
  },
  {
   "cell_type": "code",
   "execution_count": 23,
   "metadata": {},
   "outputs": [
    {
     "name": "stdout",
     "output_type": "stream",
     "text": [
      "                                              URI          name  \\\n",
      "35817  <http://dbpedia.org/resource/Barack_Obama>  Barack Obama   \n",
      "\n",
      "                                                    text  \\\n",
      "35817  barack hussein obama ii brk husen bm born augu...   \n",
      "\n",
      "                                              text_clean  \n",
      "35817  barack hussein obama ii brk husen bm born augu...  \n"
     ]
    }
   ],
   "source": [
    "print(wiki[wiki['name'] == 'Barack Obama'])"
   ]
  },
  {
   "cell_type": "markdown",
   "metadata": {},
   "source": [
    "###  K nearest neughbours for Obama' Article. "
   ]
  },
  {
   "cell_type": "code",
   "execution_count": 25,
   "metadata": {},
   "outputs": [],
   "source": [
    "distances, indices = model.kneighbors(word_count[35817], n_neighbors=10)"
   ]
  },
  {
   "cell_type": "code",
   "execution_count": 34,
   "metadata": {},
   "outputs": [
    {
     "name": "stdout",
     "output_type": "stream",
     "text": [
      "distance:\n",
      "[[ 0.         33.07567082 34.39476704 36.15245497 36.16628264 36.33180425\n",
      "  36.40054945 36.49657518 36.63331817 36.95943723]]\n",
      "                                                                 \n",
      "Indices:\n",
      "[[35817 24478 28447 35357 14754 13229 31423 22745 36364  9210]]\n"
     ]
    }
   ],
   "source": [
    "print(\"distance:\")\n",
    "print(distances)\n",
    "\n",
    "print(\"                                                                 \")\n",
    "print(\"Indices:\")\n",
    "print(indices)\n"
   ]
  },
  {
   "cell_type": "code",
   "execution_count": 35,
   "metadata": {},
   "outputs": [
    {
     "data": {
      "text/plain": [
       "array([ 0.        , 33.07567082, 34.39476704, 36.15245497, 36.16628264,\n",
       "       36.33180425, 36.40054945, 36.49657518, 36.63331817, 36.95943723])"
      ]
     },
     "execution_count": 35,
     "metadata": {},
     "output_type": "execute_result"
    }
   ],
   "source": [
    "distances.flatten()"
   ]
  },
  {
   "cell_type": "code",
   "execution_count": 37,
   "metadata": {},
   "outputs": [
    {
     "data": {
      "text/plain": [
       "dtype('int64')"
      ]
     },
     "execution_count": 37,
     "metadata": {},
     "output_type": "execute_result"
    }
   ],
   "source": [
    "neighbors = pd.DataFrame({'distance':distances.flatten(), 'id':indices.flatten()})\n",
    "neighbors['id'].dtype\n"
   ]
  },
  {
   "cell_type": "code",
   "execution_count": 44,
   "metadata": {},
   "outputs": [
    {
     "data": {
      "text/html": [
       "<div>\n",
       "<style scoped>\n",
       "    .dataframe tbody tr th:only-of-type {\n",
       "        vertical-align: middle;\n",
       "    }\n",
       "\n",
       "    .dataframe tbody tr th {\n",
       "        vertical-align: top;\n",
       "    }\n",
       "\n",
       "    .dataframe thead th {\n",
       "        text-align: right;\n",
       "    }\n",
       "</style>\n",
       "<table border=\"1\" class=\"dataframe\">\n",
       "  <thead>\n",
       "    <tr style=\"text-align: right;\">\n",
       "      <th></th>\n",
       "      <th>id</th>\n",
       "      <th>name</th>\n",
       "      <th>distance</th>\n",
       "    </tr>\n",
       "  </thead>\n",
       "  <tbody>\n",
       "    <tr>\n",
       "      <th>8</th>\n",
       "      <td>35817</td>\n",
       "      <td>Barack Obama</td>\n",
       "      <td>0.000000</td>\n",
       "    </tr>\n",
       "    <tr>\n",
       "      <th>4</th>\n",
       "      <td>24478</td>\n",
       "      <td>Joe Biden</td>\n",
       "      <td>33.075671</td>\n",
       "    </tr>\n",
       "    <tr>\n",
       "      <th>5</th>\n",
       "      <td>28447</td>\n",
       "      <td>George W. Bush</td>\n",
       "      <td>34.394767</td>\n",
       "    </tr>\n",
       "    <tr>\n",
       "      <th>7</th>\n",
       "      <td>35357</td>\n",
       "      <td>Lawrence Summers</td>\n",
       "      <td>36.152455</td>\n",
       "    </tr>\n",
       "    <tr>\n",
       "      <th>2</th>\n",
       "      <td>14754</td>\n",
       "      <td>Mitt Romney</td>\n",
       "      <td>36.166283</td>\n",
       "    </tr>\n",
       "    <tr>\n",
       "      <th>1</th>\n",
       "      <td>13229</td>\n",
       "      <td>Francisco Barrio</td>\n",
       "      <td>36.331804</td>\n",
       "    </tr>\n",
       "    <tr>\n",
       "      <th>6</th>\n",
       "      <td>31423</td>\n",
       "      <td>Walter Mondale</td>\n",
       "      <td>36.400549</td>\n",
       "    </tr>\n",
       "    <tr>\n",
       "      <th>3</th>\n",
       "      <td>22745</td>\n",
       "      <td>Wynn Normington Hugh-Jones</td>\n",
       "      <td>36.496575</td>\n",
       "    </tr>\n",
       "    <tr>\n",
       "      <th>9</th>\n",
       "      <td>36364</td>\n",
       "      <td>Don Bonker</td>\n",
       "      <td>36.633318</td>\n",
       "    </tr>\n",
       "    <tr>\n",
       "      <th>0</th>\n",
       "      <td>9210</td>\n",
       "      <td>Andy Anstett</td>\n",
       "      <td>36.959437</td>\n",
       "    </tr>\n",
       "  </tbody>\n",
       "</table>\n",
       "</div>"
      ],
      "text/plain": [
       "      id                        name   distance\n",
       "8  35817                Barack Obama   0.000000\n",
       "4  24478                   Joe Biden  33.075671\n",
       "5  28447              George W. Bush  34.394767\n",
       "7  35357            Lawrence Summers  36.152455\n",
       "2  14754                 Mitt Romney  36.166283\n",
       "1  13229            Francisco Barrio  36.331804\n",
       "6  31423              Walter Mondale  36.400549\n",
       "3  22745  Wynn Normington Hugh-Jones  36.496575\n",
       "9  36364                  Don Bonker  36.633318\n",
       "0   9210                Andy Anstett  36.959437"
      ]
     },
     "execution_count": 44,
     "metadata": {},
     "output_type": "execute_result"
    }
   ],
   "source": [
    "wiki['id'] = wiki.index\n",
    "df =pd.merge(wiki, neighbors, how = 'inner', on='id')[['id','name','distance']]\n",
    "df.sort_values('distance', ascending = True)"
   ]
  },
  {
   "cell_type": "markdown",
   "metadata": {},
   "source": [
    "##  Interpreting the nearest neighbors"
   ]
  },
  {
   "cell_type": "code",
   "execution_count": 45,
   "metadata": {},
   "outputs": [],
   "source": [
    "import json\n",
    "with open('people_wiki_map_index_to_word.json', 'r') as f: # Reads the list of most frequent words\n",
    "    map_index_to_word = json.load(f)"
   ]
  },
  {
   "cell_type": "code",
   "execution_count": 47,
   "metadata": {},
   "outputs": [],
   "source": [
    "def unpack_dict(matrix, map_index_to_word):\n",
    "    ##table = list(map_index_to_word.sort('index')['category'])\n",
    "    # if you're not using SFrame, replace this line with\n",
    "    table = sorted(map_index_to_word, key=map_index_to_word.get)\n",
    "    \n",
    "    \n",
    "    data = matrix.data\n",
    "    indices = matrix.indices\n",
    "    indptr = matrix.indptr\n",
    "    \n",
    "    num_doc = matrix.shape[0]\n",
    "\n",
    "    return [{k:v for k,v in zip([table[word_id] for word_id in indices[indptr[i]:indptr[i+1]] ],\n",
    "                                 data[indptr[i]:indptr[i+1]].tolist())} \\\n",
    "               for i in range(num_doc) ]\n",
    "\n",
    "wiki['word_count'] = unpack_dict(word_count, map_index_to_word)"
   ]
  },
  {
   "cell_type": "code",
   "execution_count": 48,
   "metadata": {},
   "outputs": [
    {
     "data": {
      "text/plain": [
       "(59071, 547979)"
      ]
     },
     "execution_count": 48,
     "metadata": {},
     "output_type": "execute_result"
    }
   ],
   "source": [
    "word_count.shape"
   ]
  },
  {
   "cell_type": "code",
   "execution_count": 50,
   "metadata": {},
   "outputs": [
    {
     "data": {
      "text/plain": [
       "0        {'brisbaneafter': 1, 'edflhe': 1, 'aflfrom': 1...\n",
       "1        {'maladaptation': 1, 'phasedelay': 1, '25hour'...\n",
       "2        {'germanyover': 1, 'bluesgospel': 1, 'harpdog'...\n",
       "3        {'fantasticrottensteiner': 1, 'waidmannsfeld':...\n",
       "4        {'arhm': 3, 'gangstergenka': 1, 'kuhnja': 1, '...\n",
       "5        {'historyhenderson': 1, 'onteora': 1, '1991hen...\n",
       "6        {'pellatfinet': 1, 'lacrates': 1, 'baltimoreaa...\n",
       "7        {'2014city': 1, 'kinkajou': 1, 'bunkhousesin':...\n",
       "8        {'garagehe': 1, 'hardcores': 1, 'wishdokta': 3...\n",
       "9        {'caruths': 1, 'deborash': 1, '173182': 1, 'ca...\n",
       "10       {'americanfrench': 1, 'kominskycrumbcrumb': 1,...\n",
       "11       {'quillercouch': 1, 'universityashworths': 1, ...\n",
       "12       {'splithoefler': 1, 'morninghoeflers': 1, 'hef...\n",
       "13       {'8595gueterbock': 1, 'fitzhardinge': 1, 'corn...\n",
       "14       {'bodieschernushenko': 1, '2013chernushenko': ...\n",
       "15       {'84minute': 1, 'steineck': 4, 'truckfighters'...\n",
       "16       {'collaborationfr': 1, 'secondperson': 2, 'mar...\n",
       "17       {'1953called': 1, 'laoishe': 1, '1950swith': 1...\n",
       "18       {'unionnaxos': 1, 'airesis': 1, 'kamarotos': 1...\n",
       "19       {'landram': 1, 'schoolboard': 1, 'affairscampb...\n",
       "20       {'remixchris': 1, 'albumchris': 1, 'tint': 1, ...\n",
       "21       {'ceiron': 1, 'pointsthomas': 1, 'leaguehoweve...\n",
       "22       {'jendouba': 1, 'breaka': 1, 'frenchmans': 1, ...\n",
       "23       {'hamletta': 1, 'bobbies': 1, 'harlyn': 1, 'so...\n",
       "24       {'stehlik': 1, 'fidonet': 2, 'europejennings':...\n",
       "25       {'offensiverich': 1, 'coaching4': 1, 'bucyk': ...\n",
       "26       {'searchcio': 1, 'techtarget': 1, '330pmsince'...\n",
       "27       {'apparentlyvirtuous': 1, 'bureaucracymitchell...\n",
       "28       {'bidefordhe': 1, '1979is': 1, 'schoolboyshapg...\n",
       "29       {'gerti': 1, 'diamondosment': 1, 'dadnapped': ...\n",
       "                               ...                        \n",
       "59041    {'molare': 1, '2011mokob': 1, 'tayorault': 1, ...\n",
       "59042    {'busche': 4, 'enzio': 1, 'churchbusches': 1, ...\n",
       "59043    {'wimans': 2, 'lineturnovers': 1, 'wiman': 2, ...\n",
       "59044    {'marginwhen': 1, 'bogdanoff': 9, 'jenne': 1, ...\n",
       "59045    {'bombingsfrom': 1, 'hewittadler': 1, '1998adl...\n",
       "59046    {'faggionato': 1, 'researchbetween': 1, 'parts...\n",
       "59047    {'unsatisfactorily': 1, 'critiziced': 1, 'comm...\n",
       "59048    {'frabjous': 1, '197498': 1, 'trackaday': 4, '...\n",
       "59049    {'complainte': 1, 'ausente': 1, 'susurro': 1, ...\n",
       "59050    {'wakusch': 1, 'giwi': 4, 'berlinweissensee': ...\n",
       "59051    {'5931': 1, '5926': 1, '131223': 1, '20912': 1...\n",
       "59052    {'averagenilsson': 1, 'academynilsson': 1, 'we...\n",
       "59053    {'macroregions': 1, 'ademaf': 1, 'huacaraje': ...\n",
       "59054    {'22409at': 1, 'marylandmulyayeva': 1, '22425m...\n",
       "59055    {'industriesde': 1, 'pronetaire': 1, 'gladwyn'...\n",
       "59056    {'bicks': 1, 'heawood': 1, 'twonovel': 1, 'toy...\n",
       "59057    {'foremen': 1, 'showzimmerman': 1, 'yup': 4, '...\n",
       "59058    {'wondergeorge': 1, 'unmovedbe': 1, 'krauses':...\n",
       "59059    {'singlesslade': 1, 'kolderie': 4, 'boekbinder...\n",
       "59060    {'sanfran': 1, 'guilfordshe': 1, 'lunatacs': 1...\n",
       "59061    {'1990wilt': 1, 'pennsylvaniawilt': 1, 'thiel'...\n",
       "59062    {'guardianbaker': 1, 'negligencehe': 1, 'court...\n",
       "59063    {'ictyin': 1, 'ojdanics': 2, 'korpus': 1, 'rav...\n",
       "59064    {'eggspectation': 1, 'bengur': 9, 'franchiser'...\n",
       "59065    {'2k': 2, 'decovan': 1, '2k12on': 1, 'nolook':...\n",
       "59066    {'orchestraolaris': 1, 'ivth': 1, 'nyyd': 1, '...\n",
       "59067    {'procushion': 1, '5088376': 1, 'trafton': 3, ...\n",
       "59068    {'3257': 1, '15696': 1, 'grewcock': 1, 'orient...\n",
       "59069    {'recordselias': 1, 'cochampionship': 1, 'xfl'...\n",
       "59070    {'damra': 1, 'damrah': 4, 'fawwz': 1, 'trustee...\n",
       "Name: word_count, Length: 59071, dtype: object"
      ]
     },
     "execution_count": 50,
     "metadata": {},
     "output_type": "execute_result"
    }
   ],
   "source": [
    "wiki['word_count']"
   ]
  },
  {
   "cell_type": "code",
   "execution_count": 53,
   "metadata": {},
   "outputs": [
    {
     "name": "stdout",
     "output_type": "stream",
     "text": [
      "    word  count\n",
      "272  the     40\n",
      "270   in     30\n",
      "271  and     21\n",
      "269   of     18\n",
      "266   to     14\n",
      "    word  count\n",
      "224  the     36\n",
      "221   of     24\n",
      "223  and     18\n",
      "222   in     17\n",
      "212   he     10\n"
     ]
    }
   ],
   "source": [
    "\n",
    "def top_words(name):\n",
    "    \"\"\"\n",
    "    Get a table of the most frequent words in the given person's wikipedia page.\n",
    "    \"\"\"\n",
    "    row = wiki[wiki['name'] == name]\n",
    "    for i in row['word_count']:\n",
    "        word_count_table = pd.DataFrame(i.items(), columns = ['word','count'])\n",
    "    return word_count_table.sort_values('count', ascending=False)\n",
    "\n",
    "obama_words = top_words('Barack Obama')\n",
    "print(obama_words.head())\n",
    "\n",
    "barrio_words = top_words('Francisco Barrio')\n",
    "print(barrio_words.head())"
   ]
  },
  {
   "cell_type": "code",
   "execution_count": 55,
   "metadata": {},
   "outputs": [],
   "source": [
    "combined_words = pd.merge(obama_words, barrio_words, how = 'inner', on = 'word')"
   ]
  },
  {
   "cell_type": "code",
   "execution_count": 56,
   "metadata": {},
   "outputs": [],
   "source": [
    "combined_words.rename(columns = {'count_x': 'Obama', 'count_y': 'Barrio'}, inplace=True)"
   ]
  },
  {
   "cell_type": "code",
   "execution_count": 57,
   "metadata": {},
   "outputs": [
    {
     "data": {
      "text/html": [
       "<div>\n",
       "<style scoped>\n",
       "    .dataframe tbody tr th:only-of-type {\n",
       "        vertical-align: middle;\n",
       "    }\n",
       "\n",
       "    .dataframe tbody tr th {\n",
       "        vertical-align: top;\n",
       "    }\n",
       "\n",
       "    .dataframe thead th {\n",
       "        text-align: right;\n",
       "    }\n",
       "</style>\n",
       "<table border=\"1\" class=\"dataframe\">\n",
       "  <thead>\n",
       "    <tr style=\"text-align: right;\">\n",
       "      <th></th>\n",
       "      <th>word</th>\n",
       "      <th>Obama</th>\n",
       "      <th>Barrio</th>\n",
       "    </tr>\n",
       "  </thead>\n",
       "  <tbody>\n",
       "    <tr>\n",
       "      <th>0</th>\n",
       "      <td>the</td>\n",
       "      <td>40</td>\n",
       "      <td>36</td>\n",
       "    </tr>\n",
       "    <tr>\n",
       "      <th>1</th>\n",
       "      <td>in</td>\n",
       "      <td>30</td>\n",
       "      <td>17</td>\n",
       "    </tr>\n",
       "    <tr>\n",
       "      <th>2</th>\n",
       "      <td>and</td>\n",
       "      <td>21</td>\n",
       "      <td>18</td>\n",
       "    </tr>\n",
       "    <tr>\n",
       "      <th>3</th>\n",
       "      <td>of</td>\n",
       "      <td>18</td>\n",
       "      <td>24</td>\n",
       "    </tr>\n",
       "    <tr>\n",
       "      <th>4</th>\n",
       "      <td>to</td>\n",
       "      <td>14</td>\n",
       "      <td>9</td>\n",
       "    </tr>\n",
       "  </tbody>\n",
       "</table>\n",
       "</div>"
      ],
      "text/plain": [
       "  word  Obama  Barrio\n",
       "0  the     40      36\n",
       "1   in     30      17\n",
       "2  and     21      18\n",
       "3   of     18      24\n",
       "4   to     14       9"
      ]
     },
     "execution_count": 57,
     "metadata": {},
     "output_type": "execute_result"
    }
   ],
   "source": [
    "\n",
    "combined_words.head()"
   ]
  },
  {
   "cell_type": "code",
   "execution_count": 58,
   "metadata": {},
   "outputs": [
    {
     "data": {
      "text/html": [
       "<div>\n",
       "<style scoped>\n",
       "    .dataframe tbody tr th:only-of-type {\n",
       "        vertical-align: middle;\n",
       "    }\n",
       "\n",
       "    .dataframe tbody tr th {\n",
       "        vertical-align: top;\n",
       "    }\n",
       "\n",
       "    .dataframe thead th {\n",
       "        text-align: right;\n",
       "    }\n",
       "</style>\n",
       "<table border=\"1\" class=\"dataframe\">\n",
       "  <thead>\n",
       "    <tr style=\"text-align: right;\">\n",
       "      <th></th>\n",
       "      <th>word</th>\n",
       "      <th>Obama</th>\n",
       "      <th>Barrio</th>\n",
       "    </tr>\n",
       "  </thead>\n",
       "  <tbody>\n",
       "    <tr>\n",
       "      <th>0</th>\n",
       "      <td>the</td>\n",
       "      <td>40</td>\n",
       "      <td>36</td>\n",
       "    </tr>\n",
       "    <tr>\n",
       "      <th>1</th>\n",
       "      <td>in</td>\n",
       "      <td>30</td>\n",
       "      <td>17</td>\n",
       "    </tr>\n",
       "    <tr>\n",
       "      <th>2</th>\n",
       "      <td>and</td>\n",
       "      <td>21</td>\n",
       "      <td>18</td>\n",
       "    </tr>\n",
       "    <tr>\n",
       "      <th>3</th>\n",
       "      <td>of</td>\n",
       "      <td>18</td>\n",
       "      <td>24</td>\n",
       "    </tr>\n",
       "    <tr>\n",
       "      <th>4</th>\n",
       "      <td>to</td>\n",
       "      <td>14</td>\n",
       "      <td>9</td>\n",
       "    </tr>\n",
       "  </tbody>\n",
       "</table>\n",
       "</div>"
      ],
      "text/plain": [
       "  word  Obama  Barrio\n",
       "0  the     40      36\n",
       "1   in     30      17\n",
       "2  and     21      18\n",
       "3   of     18      24\n",
       "4   to     14       9"
      ]
     },
     "execution_count": 58,
     "metadata": {},
     "output_type": "execute_result"
    }
   ],
   "source": [
    "combined_words.sort_values('Obama', ascending=False).head()"
   ]
  },
  {
   "cell_type": "code",
   "execution_count": 60,
   "metadata": {},
   "outputs": [
    {
     "name": "stdout",
     "output_type": "stream",
     "text": [
      "{'in', 'of', 'to', 'and', 'the'}\n"
     ]
    }
   ],
   "source": [
    "\n",
    "common_words = set([m for m in combined_words[0:5]['word']])\n",
    "\n",
    "print(common_words)"
   ]
  },
  {
   "cell_type": "code",
   "execution_count": 62,
   "metadata": {},
   "outputs": [
    {
     "data": {
      "text/plain": [
       "56066"
      ]
     },
     "execution_count": 62,
     "metadata": {},
     "output_type": "execute_result"
    }
   ],
   "source": [
    "\n",
    "def has_top_words(word_count_vector):\n",
    "    # extract the keys of word_count_vector and convert it to a set\n",
    "    unique_words = set([k for k,v in word_count_vector.items()])   \n",
    "    # return True if common_words is a subset of unique_words\n",
    "    return common_words.issubset(unique_words)\n",
    "\n",
    "wiki['has_top_words'] = wiki['word_count'].apply(has_top_words)\n",
    "sum(wiki['has_top_words'] == True)"
   ]
  },
  {
   "cell_type": "code",
   "execution_count": 64,
   "metadata": {},
   "outputs": [
    {
     "name": "stdout",
     "output_type": "stream",
     "text": [
      "Output from your function: True\n"
     ]
    },
    {
     "data": {
      "text/plain": [
       "167"
      ]
     },
     "execution_count": 64,
     "metadata": {},
     "output_type": "execute_result"
    }
   ],
   "source": [
    "print('Output from your function:', has_top_words(wiki.iloc[32]['word_count']))\n",
    "len(set([k for k,v in wiki.iloc[32]['word_count'].items()]))"
   ]
  },
  {
   "cell_type": "code",
   "execution_count": 66,
   "metadata": {},
   "outputs": [],
   "source": [
    "from sklearn.metrics.pairwise import euclidean_distances\n",
    "obama_matrix = wiki[wiki['name'] == 'Barack Obama']['word_count']\n",
    "bush_matrix = wiki[wiki['name'] == 'George W. Bush']['word_count']\n",
    "joe_matrix = wiki[wiki['name'] == 'Joe Biden']['word_count']\n",
    "o = int(wiki[wiki['name'] == 'Barack Obama']['id'])\n",
    "b = int(wiki[wiki['name'] == 'George W. Bush']['id'])\n",
    "j = int(wiki[wiki['name'] == 'Joe Biden']['id'])"
   ]
  },
  {
   "cell_type": "code",
   "execution_count": 68,
   "metadata": {},
   "outputs": [
    {
     "name": "stdout",
     "output_type": "stream",
     "text": [
      "euclidean_distances for obama and bush is:  [[34.39476704]]\n",
      "euclidean_distances for obama and joe is:  [[33.07567082]]\n",
      "euclidean_distances for bush and joe is:  [[32.75667871]]\n"
     ]
    }
   ],
   "source": [
    "bush_matrix.index\n",
    "joe_matrix.index\n",
    "o_b = euclidean_distances(word_count[o], word_count[b])\n",
    "o_j = euclidean_distances(word_count[o], word_count[j])\n",
    "b_j = euclidean_distances(word_count[b], word_count[j])\n",
    "\n",
    "print(\"euclidean_distances for obama and bush is: \", o_b)\n",
    "print(\"euclidean_distances for obama and joe is: \", o_j)\n",
    "print(\"euclidean_distances for bush and joe is: \", b_j)"
   ]
  },
  {
   "cell_type": "code",
   "execution_count": 72,
   "metadata": {},
   "outputs": [
    {
     "data": {
      "text/html": [
       "<div>\n",
       "<style scoped>\n",
       "    .dataframe tbody tr th:only-of-type {\n",
       "        vertical-align: middle;\n",
       "    }\n",
       "\n",
       "    .dataframe tbody tr th {\n",
       "        vertical-align: top;\n",
       "    }\n",
       "\n",
       "    .dataframe thead th {\n",
       "        text-align: right;\n",
       "    }\n",
       "</style>\n",
       "<table border=\"1\" class=\"dataframe\">\n",
       "  <thead>\n",
       "    <tr style=\"text-align: right;\">\n",
       "      <th></th>\n",
       "      <th>word</th>\n",
       "      <th>count_x</th>\n",
       "      <th>count_y</th>\n",
       "    </tr>\n",
       "  </thead>\n",
       "  <tbody>\n",
       "    <tr>\n",
       "      <th>0</th>\n",
       "      <td>the</td>\n",
       "      <td>40</td>\n",
       "      <td>39</td>\n",
       "    </tr>\n",
       "    <tr>\n",
       "      <th>1</th>\n",
       "      <td>in</td>\n",
       "      <td>30</td>\n",
       "      <td>22</td>\n",
       "    </tr>\n",
       "    <tr>\n",
       "      <th>2</th>\n",
       "      <td>and</td>\n",
       "      <td>21</td>\n",
       "      <td>14</td>\n",
       "    </tr>\n",
       "    <tr>\n",
       "      <th>3</th>\n",
       "      <td>of</td>\n",
       "      <td>18</td>\n",
       "      <td>14</td>\n",
       "    </tr>\n",
       "    <tr>\n",
       "      <th>4</th>\n",
       "      <td>to</td>\n",
       "      <td>14</td>\n",
       "      <td>11</td>\n",
       "    </tr>\n",
       "    <tr>\n",
       "      <th>5</th>\n",
       "      <td>his</td>\n",
       "      <td>11</td>\n",
       "      <td>6</td>\n",
       "    </tr>\n",
       "    <tr>\n",
       "      <th>6</th>\n",
       "      <td>act</td>\n",
       "      <td>8</td>\n",
       "      <td>3</td>\n",
       "    </tr>\n",
       "    <tr>\n",
       "      <th>7</th>\n",
       "      <td>he</td>\n",
       "      <td>7</td>\n",
       "      <td>8</td>\n",
       "    </tr>\n",
       "    <tr>\n",
       "      <th>8</th>\n",
       "      <td>a</td>\n",
       "      <td>7</td>\n",
       "      <td>6</td>\n",
       "    </tr>\n",
       "    <tr>\n",
       "      <th>9</th>\n",
       "      <td>law</td>\n",
       "      <td>6</td>\n",
       "      <td>1</td>\n",
       "    </tr>\n",
       "  </tbody>\n",
       "</table>\n",
       "</div>"
      ],
      "text/plain": [
       "  word  count_x  count_y\n",
       "0  the       40       39\n",
       "1   in       30       22\n",
       "2  and       21       14\n",
       "3   of       18       14\n",
       "4   to       14       11\n",
       "5  his       11        6\n",
       "6  act        8        3\n",
       "7   he        7        8\n",
       "8    a        7        6\n",
       "9  law        6        1"
      ]
     },
     "execution_count": 72,
     "metadata": {},
     "output_type": "execute_result"
    }
   ],
   "source": [
    "obama_words = top_words('Barack Obama')\n",
    "bush_words = top_words('George W. Bush')\n",
    "ob_combined_words = pd.merge(obama_words, bush_words, how='inner', on = 'word')\n",
    "ob_combined_words.sort_values('count_x', ascending=False)[0:10]"
   ]
  },
  {
   "cell_type": "markdown",
   "metadata": {},
   "source": [
    "## KDTREE\n"
   ]
  },
  {
   "cell_type": "code",
   "execution_count": 10,
   "metadata": {},
   "outputs": [
    {
     "data": {
      "image/png": "[encoded data removed]",
      "text/plain": [
       "<IPython.core.display.Image object>"
      ]
     },
     "execution_count": 10,
     "metadata": {},
     "output_type": "execute_result"
    }
   ],
   "source": [
    "\n",
    "from IPython.display import Image\n",
    "Image(filename='KDtree.PNG')"
   ]
  },
  {
   "cell_type": "code",
   "execution_count": null,
   "metadata": {},
   "outputs": [],
   "source": []
  }
 ],
 "metadata": {
  "kernelspec": {
   "display_name": "Python 3",
   "language": "python",
   "name": "python3"
  },
  "language_info": {
   "codemirror_mode": {
    "name": "ipython",
    "version": 3
   },
   "file_extension": ".py",
   "mimetype": "text/x-python",
   "name": "python",
   "nbconvert_exporter": "python",
   "pygments_lexer": "ipython3",
   "version": "3.7.3"
  }
 },
 "nbformat": 4,
 "nbformat_minor": 2
}
